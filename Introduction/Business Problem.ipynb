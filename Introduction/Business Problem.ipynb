{
    "cells": [
        {
            "metadata": {
                "collapsed": true
            },
            "cell_type": "markdown",
            "source": "# The Battle of Neighborhoods\n"
        },
        {
            "metadata": {},
            "cell_type": "markdown",
            "source": "\n## Introduction:\n\nThe goal is to help people in exploring better facilities around their neighborhood. However, I will focus more on Etobicoke, Toronoto, Canada. This project should help people to make smarter decision on selecting great neighborhood out of numbers of other neighborhoods in Etobicoke, Toronto.\n\nIf someone is looking to open a restaurant, where would be best place to open it? Similarly, if a contractor is trying to start their own business,  where would be best place to setup the office? This project is for those people who are looking for better neighborhoods. For ease of accessing to Cafe, School, Super market, medical shops, grocery shops, mall, theatre, hospital, like minded people, etc.\n\nIt will help people to get awareness of the area and neighborhood before moving to a new city, state, country or place for their work or to start a new fresh life."
        },
        {
            "metadata": {},
            "cell_type": "markdown",
            "source": "## Things to know\n\n### Location of interest: Etobicoke, Toronto, Ontario, Canada.\n\nEtobicoke is an administrative district and one of six municipalities amalgamated into the city of Toronto, Ontario, Canada. Comprising the city's west-end, Etobicoke was first settled by Europeans in the 1790s; the municipality grew into city status in the 20th century. Several independent villages and towns developed and became part of Metropolitan Toronto in 1954. In 1998, its city status and government dissolved after it was amalgamated into present-day Toronto. Etobicoke is bordered on the south by Lake Ontario, on the east by the Humber River, on the west by Etobicoke Creek, the city of Mississauga, and the Toronto Pearson International Airport (a small portion of the airport extends into Etobicoke), and on the north by Steeles Avenue West.\n\nEtobicoke has a highly diversified population, which totalled 365,143 in 2016. It is primarily suburban in development and heavily industrialized, resulting in a lower population density than the other districts of Toronto. Much of its cityscape is characterized by larger main streets, shopping malls, and cul-de-sac housing developments. Etobicoke has several expressways, including Highways 427, 401, 409, the Queen Elizabeth Way (QEW) and Gardiner Expressway. Etobicoke is the western terminus of Line 2 Bloor-Danforth of the Toronto subway and served by four suburban rail stations of GO Transit. Humber College is in Etobicoke, encompassing two campuses, one of which is also home to the University of Guelph-Humber.\n\n### Goal: Sort list of houses in terms of housing prices and schools in terms of location, fees, rating and reviews"
        },
        {
            "metadata": {},
            "cell_type": "markdown",
            "source": "### Tools used:\n\nPython\n\nJupyter Notebook \n\nPandas\n\nFolium\n\nScikit Learn\n\nJSON\n\nXML\n\nGeocoder\n\nBeautiful Soup and Requests\n\nMatplotlib"
        },
        {
            "metadata": {},
            "cell_type": "code",
            "source": "",
            "execution_count": null,
            "outputs": []
        }
    ],
    "metadata": {
        "kernelspec": {
            "name": "python3",
            "display_name": "Python 3.7",
            "language": "python"
        },
        "language_info": {
            "name": "python",
            "version": "3.7.9",
            "mimetype": "text/x-python",
            "codemirror_mode": {
                "name": "ipython",
                "version": 3
            },
            "pygments_lexer": "ipython3",
            "nbconvert_exporter": "python",
            "file_extension": ".py"
        }
    },
    "nbformat": 4,
    "nbformat_minor": 1
}